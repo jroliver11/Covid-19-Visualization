{
 "cells": [
  {
   "cell_type": "code",
   "execution_count": null,
   "metadata": {},
   "outputs": [],
   "source": [
    "import folium\n",
    "import pandas as pd\n",
    "import altair as alt\n",
    "import geopandas as gpd\n",
    "from datetime import datetime, timedelta\n",
    "import branca"
   ]
  },
  {
   "cell_type": "code",
   "execution_count": null,
   "metadata": {},
   "outputs": [],
   "source": [
    "county_data_time_series =  pd.read_csv('https://raw.githubusercontent.com/CSSEGISandData/COVID-19/master/csse_covid_19_data/csse_covid_19_time_series/time_series_covid19_confirmed_US.csv')\n",
    "\n",
    "county_data_time_series_tx = county_data_time_series[county_data_time_series['Province_State']=='Texas']"
   ]
  },
  {
   "cell_type": "code",
   "execution_count": null,
   "metadata": {},
   "outputs": [],
   "source": [
    "today = datetime.today()\n",
    "\n",
    "dates = [today - timedelta(days=7),\n",
    "        today - timedelta(days=6), \n",
    "        today - timedelta(days=5), \n",
    "        today - timedelta(days=4),\n",
    "        today - timedelta(days=3),\n",
    "        today - timedelta(days=2),\n",
    "        today - timedelta(days=1)]\n",
    "\n",
    "for item in range(len(dates)): \n",
    "    dates[item] = dates[item].strftime('%#m/%#d/%y')"
   ]
  },
  {
   "cell_type": "code",
   "execution_count": null,
   "metadata": {},
   "outputs": [],
   "source": [
    "columns = ['Admin2']\n",
    "\n",
    "for item in range(len(dates)):\n",
    "    columns.append(dates[item])"
   ]
  },
  {
   "cell_type": "code",
   "execution_count": null,
   "metadata": {},
   "outputs": [],
   "source": [
    "county_data = county_data_time_series_tx[columns]"
   ]
  },
  {
   "cell_type": "code",
   "execution_count": null,
   "metadata": {},
   "outputs": [],
   "source": [
    "county_data.head()"
   ]
  },
  {
   "cell_type": "code",
   "execution_count": null,
   "metadata": {},
   "outputs": [],
   "source": [
    "county_time = pd.melt(county_data, id_vars=['Admin2'])\n",
    "\n",
    "county_time.rename(columns={'variable':'Date', 'value':'Confirmed Cases'}, inplace=True)\n",
    "\n",
    "county_time.head()"
   ]
  },
  {
   "cell_type": "code",
   "execution_count": null,
   "metadata": {},
   "outputs": [],
   "source": [
    "texas_counties = gpd.read_file('https://opendata.arcgis.com/datasets/9b2eb7d232584572ad53bad41c76b04d_0.geojson')"
   ]
  },
  {
   "cell_type": "code",
   "execution_count": null,
   "metadata": {
    "scrolled": true
   },
   "outputs": [],
   "source": [
    "texas_counties = texas_counties[['CNTY_NM',\n",
    "                                 'Shape__Area',\n",
    "                                 'Shape__Length',\n",
    "                                 'geometry']]\n",
    "\n",
    "#texas_counties['Graph'] = \"\""
   ]
  },
  {
   "cell_type": "code",
   "execution_count": null,
   "metadata": {},
   "outputs": [],
   "source": [
    "#this was for a section of code I could not get to work.  \n",
    "#I'm still working out a for loop that will draw each polygon seperately, \n",
    "#then add a popup map that will show the cumulative cases over the last seven days\n",
    "\n",
    "'''\n",
    "for county in texas_counties['CNTY_NM']:\n",
    "    chart = alt.Chart(county_time[county_time['Admin2']==county]\n",
    "                     ).mark_bar().encode(x=alt.X('Date', sort = dates),\n",
    "                                         y=alt.Y('Confirmed Cases', \n",
    "                                                 axis=alt.Axis(title=\"Cumulative Confirmed Cases\")),                                                                                \n",
    "                                         color=alt.value('red')\n",
    "                     ).properties(\n",
    "                           title = county\n",
    "                     )\n",
    "    \n",
    "    vis = chart.to_json()\n",
    "    \n",
    "    texas_counties.loc[texas_counties['CNTY_NM']==county, 'Graph']=vis\n",
    "'''"
   ]
  },
  {
   "cell_type": "code",
   "execution_count": null,
   "metadata": {},
   "outputs": [],
   "source": [
    "'''\n",
    "#example of what the charts would look like\n",
    "chart\n",
    "\n",
    "'''"
   ]
  },
  {
   "cell_type": "code",
   "execution_count": null,
   "metadata": {},
   "outputs": [],
   "source": [
    "texas_counties = texas_counties.merge(county_data, left_on='CNTY_NM', right_on='Admin2')"
   ]
  },
  {
   "cell_type": "code",
   "execution_count": null,
   "metadata": {},
   "outputs": [],
   "source": [
    "columns = ['CNTY_NM', 'Shape__Area', 'Shape__Length', 'geometry']\n",
    "\n",
    "columns.append(dates[6])\n",
    "\n",
    "texas_counties = texas_counties[columns]"
   ]
  },
  {
   "cell_type": "code",
   "execution_count": null,
   "metadata": {},
   "outputs": [],
   "source": [
    "texas_counties.rename(columns={dates[6]:'Cases'}, inplace=True)"
   ]
  },
  {
   "cell_type": "code",
   "execution_count": null,
   "metadata": {},
   "outputs": [],
   "source": [
    "county_pop = pd.read_csv('https://demographics.texas.gov/Resources/TPEPP/Estimates/2018/2018_txpopest_county.csv')\n",
    "\n",
    "county_pop.head()"
   ]
  },
  {
   "cell_type": "code",
   "execution_count": null,
   "metadata": {},
   "outputs": [],
   "source": [
    "county_pop = county_pop[['county', 'july1_2018_pop_est']]\n",
    "\n",
    "county_pop.rename(columns={'july1_2018_pop_est':'Pop'}, inplace=True)\n",
    "\n",
    "texas_counties = texas_counties.merge(county_pop, left_on='CNTY_NM', right_on='county')"
   ]
  },
  {
   "cell_type": "code",
   "execution_count": null,
   "metadata": {},
   "outputs": [],
   "source": [
    "texas_counties['CasesX'] = round((texas_counties['Cases']/texas_counties['Pop'])*100000, 2)"
   ]
  },
  {
   "cell_type": "code",
   "execution_count": null,
   "metadata": {},
   "outputs": [],
   "source": [
    "texas_counties.drop(['county'], axis=1, inplace=True)\n",
    "\n",
    "texas_counties.head()"
   ]
  },
  {
   "cell_type": "code",
   "execution_count": null,
   "metadata": {},
   "outputs": [],
   "source": [
    "colormap = branca.colormap.LinearColormap(vmin=0, \n",
    "                                          vmax=1000, \n",
    "                                          colors=['lightyellow','yellow','orange','red','darkred'],\n",
    "                                          caption=\"Cumulative Confirmed Cases\")"
   ]
  },
  {
   "cell_type": "code",
   "execution_count": null,
   "metadata": {
    "scrolled": true
   },
   "outputs": [],
   "source": [
    "m = folium.Map(location = [31.4, -99.9018], \n",
    "               tiles = 'Stamen Toner',\n",
    "               zoom_start = 6)\n",
    "\n",
    "tx_county_json = texas_counties.to_json()\n",
    "\n",
    "folium.GeoJson(data=tx_county_json,\n",
    "               style_function=lambda x: {\n",
    "                    \"fillColor\": colormap(x['properties']['Cases'])\n",
    "                    if x['properties']['Cases'] is not 0\n",
    "                    else \"Transparent\",\n",
    "                    \"color\": \"black\",\n",
    "                    \"fillOpacity\": 0.7,\n",
    "                },\n",
    "               tooltip=folium.features.GeoJsonTooltip(fields=['CNTY_NM' , 'Cases', 'Pop', 'CasesX'],\n",
    "                                                      aliases=['County:', 'Cases:', 'Pop.:', 'Cases/100K:']),\n",
    "               name='Total Confirmed Cases').add_to(m)\n",
    "\n",
    "folium.LayerControl().add_to(m)\n",
    "\n",
    "colormap.add_to(m)\n",
    "\n",
    "m"
   ]
  },
  {
   "cell_type": "code",
   "execution_count": null,
   "metadata": {},
   "outputs": [],
   "source": [
    "colormap = branca.colormap.LinearColormap(vmin=texas_counties['CasesX'].quantile(0), \n",
    "                                          vmax=texas_counties['CasesX'].quantile(1), \n",
    "                                          colors=['lightyellow','yellow','orange','red','darkred'],\n",
    "                                          caption=\"Cases per 100,000\")"
   ]
  },
  {
   "cell_type": "code",
   "execution_count": null,
   "metadata": {},
   "outputs": [],
   "source": [
    "m1 = folium.Map(location = [31.4, -99.9018], \n",
    "               tiles = 'Stamen Toner',\n",
    "               zoom_start = 6)\n",
    "\n",
    "tx_county_json = texas_counties.to_json()\n",
    "\n",
    "folium.GeoJson(data=tx_county_json,\n",
    "               style_function=lambda x: {\n",
    "                    \"fillColor\": colormap(x['properties']['CasesX'])\n",
    "                    if x['properties']['CasesX'] is not 0\n",
    "                    else \"Transparent\",\n",
    "                    \"color\": \"black\",\n",
    "                    \"fillOpacity\": 0.7,\n",
    "                },\n",
    "               tooltip=folium.features.GeoJsonTooltip(fields=['CNTY_NM' , 'Cases', 'Pop', 'CasesX'],\n",
    "                                                      aliases=['County:', 'Cases:', 'Pop.:', 'Cases/100K:'])).add_to(m1)\n",
    "\n",
    "colormap.add_to(m1)\n",
    "\n",
    "m1"
   ]
  },
  {
   "cell_type": "code",
   "execution_count": null,
   "metadata": {},
   "outputs": [],
   "source": []
  }
 ],
 "metadata": {
  "kernelspec": {
   "display_name": "Python 3",
   "language": "python",
   "name": "python3"
  },
  "language_info": {
   "codemirror_mode": {
    "name": "ipython",
    "version": 3
   },
   "file_extension": ".py",
   "mimetype": "text/x-python",
   "name": "python",
   "nbconvert_exporter": "python",
   "pygments_lexer": "ipython3",
   "version": "3.7.3"
  }
 },
 "nbformat": 4,
 "nbformat_minor": 2
}
